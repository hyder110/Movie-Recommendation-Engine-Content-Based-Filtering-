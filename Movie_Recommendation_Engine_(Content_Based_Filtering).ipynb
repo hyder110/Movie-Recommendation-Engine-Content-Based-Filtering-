{
  "nbformat": 4,
  "nbformat_minor": 0,
  "metadata": {
    "colab": {
      "name": "Movie Recommendation Engine (Content Based Filtering).ipynb",
      "provenance": []
    },
    "kernelspec": {
      "name": "python3",
      "display_name": "Python 3"
    },
    "language_info": {
      "name": "python"
    }
  },
  "cells": [
    {
      "cell_type": "code",
      "metadata": {
        "id": "GuBB0QaGtfB4",
        "colab": {
          "base_uri": "https://localhost:8080/"
        },
        "outputId": "4d38f92a-e704-4e1d-b5b2-604bc0a372e3"
      },
      "source": [
        "import pandas as pd\n",
        "import numpy as np\n",
        "import seaborn as sns\n",
        "import matplotlib.pyplot as plt\n",
        "%matplotlib inline\n",
        "import warnings\n",
        "warnings.filterwarnings('ignore')\n",
        "import re\n",
        "import nltk\n",
        "nltk.download('stopwords')\n",
        "nltk.download('punkt')\n",
        "pd.set_option('display.max_columns',None)"
      ],
      "execution_count": 1,
      "outputs": [
        {
          "output_type": "stream",
          "name": "stdout",
          "text": [
            "[nltk_data] Downloading package stopwords to /root/nltk_data...\n",
            "[nltk_data]   Package stopwords is already up-to-date!\n",
            "[nltk_data] Downloading package punkt to /root/nltk_data...\n",
            "[nltk_data]   Package punkt is already up-to-date!\n"
          ]
        }
      ]
    },
    {
      "cell_type": "code",
      "metadata": {
        "id": "31OrlKjXukEe"
      },
      "source": [
        "df=pd.read_csv('/content/IMDB_OMDB_Kaggle_TestSet_OMDB_Detailed.csv')"
      ],
      "execution_count": 2,
      "outputs": []
    },
    {
      "cell_type": "code",
      "metadata": {
        "colab": {
          "base_uri": "https://localhost:8080/",
          "height": 694
        },
        "id": "diXh8RC5uwxV",
        "outputId": "fd348075-f65b-4762-a494-81a8bdb2f280"
      },
      "source": [
        "df.head()"
      ],
      "execution_count": 3,
      "outputs": [
        {
          "output_type": "execute_result",
          "data": {
            "text/html": [
              "<div>\n",
              "<style scoped>\n",
              "    .dataframe tbody tr th:only-of-type {\n",
              "        vertical-align: middle;\n",
              "    }\n",
              "\n",
              "    .dataframe tbody tr th {\n",
              "        vertical-align: top;\n",
              "    }\n",
              "\n",
              "    .dataframe thead th {\n",
              "        text-align: right;\n",
              "    }\n",
              "</style>\n",
              "<table border=\"1\" class=\"dataframe\">\n",
              "  <thead>\n",
              "    <tr style=\"text-align: right;\">\n",
              "      <th></th>\n",
              "      <th>Unnamed: 0</th>\n",
              "      <th>Title</th>\n",
              "      <th>Year</th>\n",
              "      <th>Rated</th>\n",
              "      <th>Released</th>\n",
              "      <th>Runtime</th>\n",
              "      <th>Genre</th>\n",
              "      <th>Director</th>\n",
              "      <th>Writer</th>\n",
              "      <th>Actors</th>\n",
              "      <th>Plot</th>\n",
              "      <th>Language</th>\n",
              "      <th>Country</th>\n",
              "      <th>Awards</th>\n",
              "      <th>Poster</th>\n",
              "      <th>Ratings.Source</th>\n",
              "      <th>Ratings.Value</th>\n",
              "      <th>Metascore</th>\n",
              "      <th>imdbRating</th>\n",
              "      <th>imdbVotes</th>\n",
              "      <th>imdbID</th>\n",
              "      <th>Type</th>\n",
              "      <th>tomatoMeter</th>\n",
              "      <th>tomatoImage</th>\n",
              "      <th>tomatoRating</th>\n",
              "      <th>tomatoReviews</th>\n",
              "      <th>tomatoFresh</th>\n",
              "      <th>tomatoRotten</th>\n",
              "      <th>tomatoConsensus</th>\n",
              "      <th>tomatoUserMeter</th>\n",
              "      <th>tomatoUserRating</th>\n",
              "      <th>tomatoUserReviews</th>\n",
              "      <th>tomatoURL</th>\n",
              "      <th>DVD</th>\n",
              "      <th>BoxOffice</th>\n",
              "      <th>Production</th>\n",
              "      <th>Website</th>\n",
              "      <th>Response</th>\n",
              "    </tr>\n",
              "  </thead>\n",
              "  <tbody>\n",
              "    <tr>\n",
              "      <th>0</th>\n",
              "      <td>1</td>\n",
              "      <td>Avatar</td>\n",
              "      <td>2009</td>\n",
              "      <td>PG-13</td>\n",
              "      <td>18 Dec 2009</td>\n",
              "      <td>162 min</td>\n",
              "      <td>Action, Adventure, Fantasy</td>\n",
              "      <td>James Cameron</td>\n",
              "      <td>James Cameron</td>\n",
              "      <td>Sam Worthington, Zoe Saldana, Sigourney Weaver...</td>\n",
              "      <td>A paraplegic marine dispatched to the moon Pan...</td>\n",
              "      <td>English, Spanish</td>\n",
              "      <td>UK, USA</td>\n",
              "      <td>Won 3 Oscars. Another 86 wins &amp; 128 nominations.</td>\n",
              "      <td>https://images-na.ssl-images-amazon.com/images...</td>\n",
              "      <td>Internet Movie Database</td>\n",
              "      <td>7.8/10</td>\n",
              "      <td>83</td>\n",
              "      <td>7.8</td>\n",
              "      <td>939,525</td>\n",
              "      <td>tt0499549</td>\n",
              "      <td>movie</td>\n",
              "      <td>NaN</td>\n",
              "      <td>NaN</td>\n",
              "      <td>NaN</td>\n",
              "      <td>NaN</td>\n",
              "      <td>NaN</td>\n",
              "      <td>NaN</td>\n",
              "      <td>NaN</td>\n",
              "      <td>NaN</td>\n",
              "      <td>NaN</td>\n",
              "      <td>NaN</td>\n",
              "      <td>http://www.rottentomatoes.com/m/avatar/</td>\n",
              "      <td>22 Apr 2010</td>\n",
              "      <td>$749,700,000</td>\n",
              "      <td>20th Century Fox</td>\n",
              "      <td>http://www.avatarmovie.com/</td>\n",
              "      <td>True</td>\n",
              "    </tr>\n",
              "    <tr>\n",
              "      <th>1</th>\n",
              "      <td>2</td>\n",
              "      <td>Pirates of the Caribbean: At World's End</td>\n",
              "      <td>2007</td>\n",
              "      <td>PG-13</td>\n",
              "      <td>25 May 2007</td>\n",
              "      <td>169 min</td>\n",
              "      <td>Action, Adventure, Fantasy</td>\n",
              "      <td>Gore Verbinski</td>\n",
              "      <td>Ted Elliott, Terry Rossio, Ted Elliott (charac...</td>\n",
              "      <td>Johnny Depp, Geoffrey Rush, Orlando Bloom, Kei...</td>\n",
              "      <td>Captain Barbossa, Will Turner and Elizabeth Sw...</td>\n",
              "      <td>English</td>\n",
              "      <td>USA</td>\n",
              "      <td>Nominated for 2 Oscars. Another 20 wins &amp; 44 n...</td>\n",
              "      <td>https://images-na.ssl-images-amazon.com/images...</td>\n",
              "      <td>Internet Movie Database</td>\n",
              "      <td>7.1/10</td>\n",
              "      <td>50</td>\n",
              "      <td>7.1</td>\n",
              "      <td>506,076</td>\n",
              "      <td>tt0449088</td>\n",
              "      <td>movie</td>\n",
              "      <td>NaN</td>\n",
              "      <td>NaN</td>\n",
              "      <td>NaN</td>\n",
              "      <td>NaN</td>\n",
              "      <td>NaN</td>\n",
              "      <td>NaN</td>\n",
              "      <td>NaN</td>\n",
              "      <td>NaN</td>\n",
              "      <td>NaN</td>\n",
              "      <td>NaN</td>\n",
              "      <td>http://www.rottentomatoes.com/m/pirates_of_the...</td>\n",
              "      <td>04 Dec 2007</td>\n",
              "      <td>$309,404,152</td>\n",
              "      <td>Buena Vista</td>\n",
              "      <td>http://disney.go.com/disneypictures/pirates/at...</td>\n",
              "      <td>True</td>\n",
              "    </tr>\n",
              "    <tr>\n",
              "      <th>2</th>\n",
              "      <td>3</td>\n",
              "      <td>Spectre</td>\n",
              "      <td>2015</td>\n",
              "      <td>PG-13</td>\n",
              "      <td>06 Nov 2015</td>\n",
              "      <td>148 min</td>\n",
              "      <td>Action, Adventure, Thriller</td>\n",
              "      <td>Sam Mendes</td>\n",
              "      <td>John Logan (screenplay), Neal Purvis (screenpl...</td>\n",
              "      <td>Daniel Craig, Christoph Waltz, Léa Seydoux, Ra...</td>\n",
              "      <td>A cryptic message from Bond's past sends him o...</td>\n",
              "      <td>English, Spanish, Italian, German, French</td>\n",
              "      <td>UK, USA</td>\n",
              "      <td>Won 1 Oscar. Another 7 wins &amp; 30 nominations.</td>\n",
              "      <td>https://images-na.ssl-images-amazon.com/images...</td>\n",
              "      <td>Internet Movie Database</td>\n",
              "      <td>6.8/10</td>\n",
              "      <td>60</td>\n",
              "      <td>6.8</td>\n",
              "      <td>311,366</td>\n",
              "      <td>tt2379713</td>\n",
              "      <td>movie</td>\n",
              "      <td>NaN</td>\n",
              "      <td>NaN</td>\n",
              "      <td>NaN</td>\n",
              "      <td>NaN</td>\n",
              "      <td>NaN</td>\n",
              "      <td>NaN</td>\n",
              "      <td>NaN</td>\n",
              "      <td>NaN</td>\n",
              "      <td>NaN</td>\n",
              "      <td>NaN</td>\n",
              "      <td>http://www.rottentomatoes.com/m/spectre_2015/</td>\n",
              "      <td>09 Feb 2016</td>\n",
              "      <td>$208,777,731</td>\n",
              "      <td>Sony Pictures</td>\n",
              "      <td>http://www.007.com/</td>\n",
              "      <td>True</td>\n",
              "    </tr>\n",
              "    <tr>\n",
              "      <th>3</th>\n",
              "      <td>4</td>\n",
              "      <td>The Dark Knight Rises</td>\n",
              "      <td>2012</td>\n",
              "      <td>PG-13</td>\n",
              "      <td>20 Jul 2012</td>\n",
              "      <td>164 min</td>\n",
              "      <td>Action, Thriller</td>\n",
              "      <td>Christopher Nolan</td>\n",
              "      <td>Jonathan Nolan (screenplay), Christopher Nolan...</td>\n",
              "      <td>Christian Bale, Gary Oldman, Tom Hardy, Joseph...</td>\n",
              "      <td>Eight years after the Joker's reign of anarchy...</td>\n",
              "      <td>English, Arabic</td>\n",
              "      <td>UK, USA</td>\n",
              "      <td>Nominated for 1 BAFTA Film Award. Another 38 w...</td>\n",
              "      <td>https://images-na.ssl-images-amazon.com/images...</td>\n",
              "      <td>Internet Movie Database</td>\n",
              "      <td>8.5/10</td>\n",
              "      <td>78</td>\n",
              "      <td>8.5</td>\n",
              "      <td>1,228,378</td>\n",
              "      <td>tt1345836</td>\n",
              "      <td>movie</td>\n",
              "      <td>NaN</td>\n",
              "      <td>NaN</td>\n",
              "      <td>NaN</td>\n",
              "      <td>NaN</td>\n",
              "      <td>NaN</td>\n",
              "      <td>NaN</td>\n",
              "      <td>NaN</td>\n",
              "      <td>NaN</td>\n",
              "      <td>NaN</td>\n",
              "      <td>NaN</td>\n",
              "      <td>http://www.rottentomatoes.com/m/the_dark_knigh...</td>\n",
              "      <td>03 Dec 2012</td>\n",
              "      <td>$448,130,642</td>\n",
              "      <td>Warner Bros. Pictures</td>\n",
              "      <td>http://www.thedarkknightrises.com/</td>\n",
              "      <td>True</td>\n",
              "    </tr>\n",
              "    <tr>\n",
              "      <th>4</th>\n",
              "      <td>5</td>\n",
              "      <td>The Lone Ranger</td>\n",
              "      <td>2013</td>\n",
              "      <td>PG-13</td>\n",
              "      <td>03 Jul 2013</td>\n",
              "      <td>150 min</td>\n",
              "      <td>Action, Adventure, Western</td>\n",
              "      <td>Gore Verbinski</td>\n",
              "      <td>Justin Haythe (screenplay), Ted Elliott (scree...</td>\n",
              "      <td>Johnny Depp, Armie Hammer, William Fichtner, T...</td>\n",
              "      <td>Native American warrior Tonto recounts the unt...</td>\n",
              "      <td>English, North American Indian</td>\n",
              "      <td>USA</td>\n",
              "      <td>Nominated for 2 Oscars. Another 4 wins &amp; 17 no...</td>\n",
              "      <td>https://images-na.ssl-images-amazon.com/images...</td>\n",
              "      <td>Internet Movie Database</td>\n",
              "      <td>6.5/10</td>\n",
              "      <td>37</td>\n",
              "      <td>6.5</td>\n",
              "      <td>191,532</td>\n",
              "      <td>tt1210819</td>\n",
              "      <td>movie</td>\n",
              "      <td>NaN</td>\n",
              "      <td>NaN</td>\n",
              "      <td>NaN</td>\n",
              "      <td>NaN</td>\n",
              "      <td>NaN</td>\n",
              "      <td>NaN</td>\n",
              "      <td>NaN</td>\n",
              "      <td>NaN</td>\n",
              "      <td>NaN</td>\n",
              "      <td>NaN</td>\n",
              "      <td>http://www.rottentomatoes.com/m/the_lone_ranger/</td>\n",
              "      <td>17 Dec 2013</td>\n",
              "      <td>$89,289,910</td>\n",
              "      <td>Walt Disney Pictures</td>\n",
              "      <td>http://disney.go.com/the-lone-ranger/</td>\n",
              "      <td>True</td>\n",
              "    </tr>\n",
              "  </tbody>\n",
              "</table>\n",
              "</div>"
            ],
            "text/plain": [
              "   Unnamed: 0                                     Title  Year  Rated  \\\n",
              "0           1                                    Avatar  2009  PG-13   \n",
              "1           2  Pirates of the Caribbean: At World's End  2007  PG-13   \n",
              "2           3                                   Spectre  2015  PG-13   \n",
              "3           4                     The Dark Knight Rises  2012  PG-13   \n",
              "4           5                           The Lone Ranger  2013  PG-13   \n",
              "\n",
              "      Released  Runtime                        Genre           Director  \\\n",
              "0  18 Dec 2009  162 min   Action, Adventure, Fantasy      James Cameron   \n",
              "1  25 May 2007  169 min   Action, Adventure, Fantasy     Gore Verbinski   \n",
              "2  06 Nov 2015  148 min  Action, Adventure, Thriller         Sam Mendes   \n",
              "3  20 Jul 2012  164 min             Action, Thriller  Christopher Nolan   \n",
              "4  03 Jul 2013  150 min   Action, Adventure, Western     Gore Verbinski   \n",
              "\n",
              "                                              Writer  \\\n",
              "0                                      James Cameron   \n",
              "1  Ted Elliott, Terry Rossio, Ted Elliott (charac...   \n",
              "2  John Logan (screenplay), Neal Purvis (screenpl...   \n",
              "3  Jonathan Nolan (screenplay), Christopher Nolan...   \n",
              "4  Justin Haythe (screenplay), Ted Elliott (scree...   \n",
              "\n",
              "                                              Actors  \\\n",
              "0  Sam Worthington, Zoe Saldana, Sigourney Weaver...   \n",
              "1  Johnny Depp, Geoffrey Rush, Orlando Bloom, Kei...   \n",
              "2  Daniel Craig, Christoph Waltz, Léa Seydoux, Ra...   \n",
              "3  Christian Bale, Gary Oldman, Tom Hardy, Joseph...   \n",
              "4  Johnny Depp, Armie Hammer, William Fichtner, T...   \n",
              "\n",
              "                                                Plot  \\\n",
              "0  A paraplegic marine dispatched to the moon Pan...   \n",
              "1  Captain Barbossa, Will Turner and Elizabeth Sw...   \n",
              "2  A cryptic message from Bond's past sends him o...   \n",
              "3  Eight years after the Joker's reign of anarchy...   \n",
              "4  Native American warrior Tonto recounts the unt...   \n",
              "\n",
              "                                    Language  Country  \\\n",
              "0                           English, Spanish  UK, USA   \n",
              "1                                    English      USA   \n",
              "2  English, Spanish, Italian, German, French  UK, USA   \n",
              "3                            English, Arabic  UK, USA   \n",
              "4             English, North American Indian      USA   \n",
              "\n",
              "                                              Awards  \\\n",
              "0   Won 3 Oscars. Another 86 wins & 128 nominations.   \n",
              "1  Nominated for 2 Oscars. Another 20 wins & 44 n...   \n",
              "2      Won 1 Oscar. Another 7 wins & 30 nominations.   \n",
              "3  Nominated for 1 BAFTA Film Award. Another 38 w...   \n",
              "4  Nominated for 2 Oscars. Another 4 wins & 17 no...   \n",
              "\n",
              "                                              Poster           Ratings.Source  \\\n",
              "0  https://images-na.ssl-images-amazon.com/images...  Internet Movie Database   \n",
              "1  https://images-na.ssl-images-amazon.com/images...  Internet Movie Database   \n",
              "2  https://images-na.ssl-images-amazon.com/images...  Internet Movie Database   \n",
              "3  https://images-na.ssl-images-amazon.com/images...  Internet Movie Database   \n",
              "4  https://images-na.ssl-images-amazon.com/images...  Internet Movie Database   \n",
              "\n",
              "  Ratings.Value  Metascore  imdbRating  imdbVotes     imdbID   Type  \\\n",
              "0        7.8/10         83         7.8    939,525  tt0499549  movie   \n",
              "1        7.1/10         50         7.1    506,076  tt0449088  movie   \n",
              "2        6.8/10         60         6.8    311,366  tt2379713  movie   \n",
              "3        8.5/10         78         8.5  1,228,378  tt1345836  movie   \n",
              "4        6.5/10         37         6.5    191,532  tt1210819  movie   \n",
              "\n",
              "   tomatoMeter  tomatoImage  tomatoRating  tomatoReviews  tomatoFresh  \\\n",
              "0          NaN          NaN           NaN            NaN          NaN   \n",
              "1          NaN          NaN           NaN            NaN          NaN   \n",
              "2          NaN          NaN           NaN            NaN          NaN   \n",
              "3          NaN          NaN           NaN            NaN          NaN   \n",
              "4          NaN          NaN           NaN            NaN          NaN   \n",
              "\n",
              "   tomatoRotten  tomatoConsensus  tomatoUserMeter  tomatoUserRating  \\\n",
              "0           NaN              NaN              NaN               NaN   \n",
              "1           NaN              NaN              NaN               NaN   \n",
              "2           NaN              NaN              NaN               NaN   \n",
              "3           NaN              NaN              NaN               NaN   \n",
              "4           NaN              NaN              NaN               NaN   \n",
              "\n",
              "   tomatoUserReviews                                          tomatoURL  \\\n",
              "0                NaN            http://www.rottentomatoes.com/m/avatar/   \n",
              "1                NaN  http://www.rottentomatoes.com/m/pirates_of_the...   \n",
              "2                NaN      http://www.rottentomatoes.com/m/spectre_2015/   \n",
              "3                NaN  http://www.rottentomatoes.com/m/the_dark_knigh...   \n",
              "4                NaN   http://www.rottentomatoes.com/m/the_lone_ranger/   \n",
              "\n",
              "           DVD     BoxOffice             Production  \\\n",
              "0  22 Apr 2010  $749,700,000       20th Century Fox   \n",
              "1  04 Dec 2007  $309,404,152            Buena Vista   \n",
              "2  09 Feb 2016  $208,777,731          Sony Pictures   \n",
              "3  03 Dec 2012  $448,130,642  Warner Bros. Pictures   \n",
              "4  17 Dec 2013   $89,289,910   Walt Disney Pictures   \n",
              "\n",
              "                                             Website  Response  \n",
              "0                        http://www.avatarmovie.com/      True  \n",
              "1  http://disney.go.com/disneypictures/pirates/at...      True  \n",
              "2                                http://www.007.com/      True  \n",
              "3                 http://www.thedarkknightrises.com/      True  \n",
              "4              http://disney.go.com/the-lone-ranger/      True  "
            ]
          },
          "metadata": {},
          "execution_count": 3
        }
      ]
    },
    {
      "cell_type": "code",
      "metadata": {
        "colab": {
          "base_uri": "https://localhost:8080/"
        },
        "id": "WLqPBIdvuyKw",
        "outputId": "910138c6-2539-4c84-9cd3-907220749e1a"
      },
      "source": [
        "df.shape"
      ],
      "execution_count": 4,
      "outputs": [
        {
          "output_type": "execute_result",
          "data": {
            "text/plain": [
              "(24, 38)"
            ]
          },
          "metadata": {},
          "execution_count": 4
        }
      ]
    },
    {
      "cell_type": "code",
      "metadata": {
        "id": "CACvHEPWu0oK",
        "colab": {
          "base_uri": "https://localhost:8080/"
        },
        "outputId": "64385883-91b6-4ee2-acdd-3af46e460840"
      },
      "source": [
        "df.info()"
      ],
      "execution_count": 5,
      "outputs": [
        {
          "output_type": "stream",
          "name": "stdout",
          "text": [
            "<class 'pandas.core.frame.DataFrame'>\n",
            "RangeIndex: 24 entries, 0 to 23\n",
            "Data columns (total 38 columns):\n",
            " #   Column             Non-Null Count  Dtype  \n",
            "---  ------             --------------  -----  \n",
            " 0   Unnamed: 0         24 non-null     int64  \n",
            " 1   Title              24 non-null     object \n",
            " 2   Year               24 non-null     int64  \n",
            " 3   Rated              24 non-null     object \n",
            " 4   Released           24 non-null     object \n",
            " 5   Runtime            24 non-null     object \n",
            " 6   Genre              24 non-null     object \n",
            " 7   Director           24 non-null     object \n",
            " 8   Writer             24 non-null     object \n",
            " 9   Actors             24 non-null     object \n",
            " 10  Plot               24 non-null     object \n",
            " 11  Language           24 non-null     object \n",
            " 12  Country            24 non-null     object \n",
            " 13  Awards             24 non-null     object \n",
            " 14  Poster             24 non-null     object \n",
            " 15  Ratings.Source     24 non-null     object \n",
            " 16  Ratings.Value      24 non-null     object \n",
            " 17  Metascore          24 non-null     int64  \n",
            " 18  imdbRating         24 non-null     float64\n",
            " 19  imdbVotes          24 non-null     object \n",
            " 20  imdbID             24 non-null     object \n",
            " 21  Type               24 non-null     object \n",
            " 22  tomatoMeter        0 non-null      float64\n",
            " 23  tomatoImage        0 non-null      float64\n",
            " 24  tomatoRating       0 non-null      float64\n",
            " 25  tomatoReviews      0 non-null      float64\n",
            " 26  tomatoFresh        0 non-null      float64\n",
            " 27  tomatoRotten       0 non-null      float64\n",
            " 28  tomatoConsensus    0 non-null      float64\n",
            " 29  tomatoUserMeter    0 non-null      float64\n",
            " 30  tomatoUserRating   0 non-null      float64\n",
            " 31  tomatoUserReviews  0 non-null      float64\n",
            " 32  tomatoURL          24 non-null     object \n",
            " 33  DVD                24 non-null     object \n",
            " 34  BoxOffice          24 non-null     object \n",
            " 35  Production         24 non-null     object \n",
            " 36  Website            24 non-null     object \n",
            " 37  Response           24 non-null     bool   \n",
            "dtypes: bool(1), float64(11), int64(3), object(23)\n",
            "memory usage: 7.1+ KB\n"
          ]
        }
      ]
    },
    {
      "cell_type": "markdown",
      "metadata": {
        "id": "275INK-e4kI9"
      },
      "source": [
        "## Data Preprocessing"
      ]
    },
    {
      "cell_type": "code",
      "metadata": {
        "colab": {
          "base_uri": "https://localhost:8080/"
        },
        "id": "3BvmX_RS3Lro",
        "outputId": "0b7d295c-d702-498e-96f7-ebcb05a94e96"
      },
      "source": [
        "# convert lowercase and remove numbers, punctuations, spaces, etc.,\n",
        "df['clean_plot']=df['Plot'].str.lower()\n",
        "df['clean_plot']=df['clean_plot'].apply(lambda x: re.sub('[^a-zA-Z]', ' ',x)) # makes space apart from charaters\n",
        "df['clean_plot']=df['clean_plot'].apply(lambda x: re.sub('\\s+', ' ',x)) #more spaces are removed\n",
        "df['clean_plot']"
      ],
      "execution_count": 6,
      "outputs": [
        {
          "output_type": "execute_result",
          "data": {
            "text/plain": [
              "0     a paraplegic marine dispatched to the moon pan...\n",
              "1     captain barbossa will turner and elizabeth swa...\n",
              "2     a cryptic message from bond s past sends him o...\n",
              "3     eight years after the joker s reign of anarchy...\n",
              "4     native american warrior tonto recounts the unt...\n",
              "5     transported to barsoom a civil war vet discove...\n",
              "6     the magically long haired rapunzel has spent h...\n",
              "7     a strange black entity from another world bond...\n",
              "8     when tony stark and bruce banner try to jump s...\n",
              "9     political interference in the avengers activit...\n",
              "10    fearing that the actions of superman are left ...\n",
              "11    a reluctant hobbit bilbo baggins sets out to t...\n",
              "12    as harry potter begins his sixth year at hogwa...\n",
              "13    the dwarves along with bilbo baggins and ganda...\n",
              "14    bilbo and company are forced to engage in a wa...\n",
              "15    jack sparrow and barbossa embark on a quest to...\n",
              "16    superman reappears after a long absence but is...\n",
              "17    james bond descends into mystery as he tries t...\n",
              "18    earth s mightiest heroes must come together an...\n",
              "19    jack sparrow races to recover the heart of dav...\n",
              "20    clark kent one of the last of an extinguished ...\n",
              "21    the pevensie siblings return to narnia where t...\n",
              "22    after peter parker is bitten by a genetically ...\n",
              "23    a new theme park built on the original site of...\n",
              "Name: clean_plot, dtype: object"
            ]
          },
          "metadata": {},
          "execution_count": 6
        }
      ]
    },
    {
      "cell_type": "code",
      "metadata": {
        "colab": {
          "base_uri": "https://localhost:8080/"
        },
        "id": "L58nynF0747T",
        "outputId": "87ae00f0-9b0e-489f-c0a5-f2be38ff3551"
      },
      "source": [
        "#tokenize the \n",
        "\n",
        "df['clean_plot'] = df['clean_plot'].apply(lambda x: nltk.word_tokenize(x))\n",
        "df['clean_plot']"
      ],
      "execution_count": 7,
      "outputs": [
        {
          "output_type": "execute_result",
          "data": {
            "text/plain": [
              "0     [a, paraplegic, marine, dispatched, to, the, m...\n",
              "1     [captain, barbossa, will, turner, and, elizabe...\n",
              "2     [a, cryptic, message, from, bond, s, past, sen...\n",
              "3     [eight, years, after, the, joker, s, reign, of...\n",
              "4     [native, american, warrior, tonto, recounts, t...\n",
              "5     [transported, to, barsoom, a, civil, war, vet,...\n",
              "6     [the, magically, long, haired, rapunzel, has, ...\n",
              "7     [a, strange, black, entity, from, another, wor...\n",
              "8     [when, tony, stark, and, bruce, banner, try, t...\n",
              "9     [political, interference, in, the, avengers, a...\n",
              "10    [fearing, that, the, actions, of, superman, ar...\n",
              "11    [a, reluctant, hobbit, bilbo, baggins, sets, o...\n",
              "12    [as, harry, potter, begins, his, sixth, year, ...\n",
              "13    [the, dwarves, along, with, bilbo, baggins, an...\n",
              "14    [bilbo, and, company, are, forced, to, engage,...\n",
              "15    [jack, sparrow, and, barbossa, embark, on, a, ...\n",
              "16    [superman, reappears, after, a, long, absence,...\n",
              "17    [james, bond, descends, into, mystery, as, he,...\n",
              "18    [earth, s, mightiest, heroes, must, come, toge...\n",
              "19    [jack, sparrow, races, to, recover, the, heart...\n",
              "20    [clark, kent, one, of, the, last, of, an, exti...\n",
              "21    [the, pevensie, siblings, return, to, narnia, ...\n",
              "22    [after, peter, parker, is, bitten, by, a, gene...\n",
              "23    [a, new, theme, park, built, on, the, original...\n",
              "Name: clean_plot, dtype: object"
            ]
          },
          "metadata": {},
          "execution_count": 7
        }
      ]
    },
    {
      "cell_type": "code",
      "metadata": {
        "id": "eQLi1zTKLtEF"
      },
      "source": [
        "# remove stopwords\n",
        "stop_words = nltk.corpus.stopwords.words('english')\n",
        "stop_words\n",
        "plot=[]\n",
        "for sentences in df['clean_plot']:\n",
        "  temp=[]\n",
        "  for words in sentences:\n",
        "    if words not in stop_words and len(words)>=3:\n",
        "      temp.append(words)\n",
        "  plot.append(temp)"
      ],
      "execution_count": 8,
      "outputs": []
    },
    {
      "cell_type": "code",
      "metadata": {
        "id": "QkQxcOP8o4w6"
      },
      "source": [
        "df['clean_plot']=plot"
      ],
      "execution_count": 9,
      "outputs": []
    },
    {
      "cell_type": "code",
      "metadata": {
        "colab": {
          "base_uri": "https://localhost:8080/"
        },
        "id": "6AQXDh8TqefJ",
        "outputId": "6421fbe8-871d-44c4-c743-fd14fb0e5121"
      },
      "source": [
        "df['clean_plot']"
      ],
      "execution_count": 10,
      "outputs": [
        {
          "output_type": "execute_result",
          "data": {
            "text/plain": [
              "0     [paraplegic, marine, dispatched, moon, pandora...\n",
              "1     [captain, barbossa, turner, elizabeth, swann, ...\n",
              "2     [cryptic, message, bond, past, sends, trail, u...\n",
              "3     [eight, years, joker, reign, anarchy, dark, kn...\n",
              "4     [native, american, warrior, tonto, recounts, u...\n",
              "5     [transported, barsoom, civil, war, vet, discov...\n",
              "6     [magically, long, haired, rapunzel, spent, ent...\n",
              "7     [strange, black, entity, another, world, bonds...\n",
              "8     [tony, stark, bruce, banner, try, jump, start,...\n",
              "9     [political, interference, avengers, activities...\n",
              "10    [fearing, actions, superman, left, unchecked, ...\n",
              "11    [reluctant, hobbit, bilbo, baggins, sets, lone...\n",
              "12    [harry, potter, begins, sixth, year, hogwarts,...\n",
              "13    [dwarves, along, bilbo, baggins, gandalf, grey...\n",
              "14    [bilbo, company, forced, engage, war, array, c...\n",
              "15    [jack, sparrow, barbossa, embark, quest, find,...\n",
              "16    [superman, reappears, long, absence, challenge...\n",
              "17    [james, bond, descends, mystery, tries, stop, ...\n",
              "18    [earth, mightiest, heroes, must, come, togethe...\n",
              "19    [jack, sparrow, races, recover, heart, davy, j...\n",
              "20    [clark, kent, one, last, extinguished, race, d...\n",
              "21    [pevensie, siblings, return, narnia, enlisted,...\n",
              "22    [peter, parker, bitten, genetically, altered, ...\n",
              "23    [new, theme, park, built, original, site, jura...\n",
              "Name: clean_plot, dtype: object"
            ]
          },
          "metadata": {},
          "execution_count": 10
        }
      ]
    },
    {
      "cell_type": "code",
      "metadata": {
        "id": "P3kTiZIfqh-r"
      },
      "source": [
        "df['Genre']=df['Genre'].apply(lambda x : x.split(','))\n"
      ],
      "execution_count": 11,
      "outputs": []
    },
    {
      "cell_type": "code",
      "metadata": {
        "colab": {
          "base_uri": "https://localhost:8080/"
        },
        "id": "RbuJlTa6SsAs",
        "outputId": "79a641a2-a071-45c8-fcb0-6fbc2ea72c90"
      },
      "source": [
        "df['Genre']"
      ],
      "execution_count": 12,
      "outputs": [
        {
          "output_type": "execute_result",
          "data": {
            "text/plain": [
              "0       [Action,  Adventure,  Fantasy]\n",
              "1       [Action,  Adventure,  Fantasy]\n",
              "2      [Action,  Adventure,  Thriller]\n",
              "3                  [Action,  Thriller]\n",
              "4       [Action,  Adventure,  Western]\n",
              "5        [Action,  Adventure,  Sci-Fi]\n",
              "6     [Animation,  Adventure,  Comedy]\n",
              "7                 [Action,  Adventure]\n",
              "8        [Action,  Adventure,  Sci-Fi]\n",
              "9        [Action,  Adventure,  Sci-Fi]\n",
              "10       [Action,  Adventure,  Sci-Fi]\n",
              "11               [Adventure,  Fantasy]\n",
              "12      [Adventure,  Family,  Fantasy]\n",
              "13               [Adventure,  Fantasy]\n",
              "14               [Adventure,  Fantasy]\n",
              "15      [Action,  Adventure,  Fantasy]\n",
              "16       [Action,  Adventure,  Sci-Fi]\n",
              "17     [Action,  Adventure,  Thriller]\n",
              "18                   [Action,  Sci-Fi]\n",
              "19      [Action,  Adventure,  Fantasy]\n",
              "20      [Action,  Adventure,  Fantasy]\n",
              "21       [Action,  Adventure,  Family]\n",
              "22                [Action,  Adventure]\n",
              "23       [Action,  Adventure,  Sci-Fi]\n",
              "Name: Genre, dtype: object"
            ]
          },
          "metadata": {},
          "execution_count": 12
        }
      ]
    },
    {
      "cell_type": "code",
      "metadata": {
        "id": "WuHpKdCZSuIq"
      },
      "source": [
        "df['Actors']=df['Actors'].apply(lambda x : x.split(',')[:4])"
      ],
      "execution_count": 13,
      "outputs": []
    },
    {
      "cell_type": "code",
      "metadata": {
        "colab": {
          "base_uri": "https://localhost:8080/"
        },
        "id": "dlbhg_mvaxR_",
        "outputId": "1cb900a7-5dbb-4942-b979-4fcedab66d3d"
      },
      "source": [
        "df['Actors']"
      ],
      "execution_count": 14,
      "outputs": [
        {
          "output_type": "execute_result",
          "data": {
            "text/plain": [
              "0     [Sam Worthington,  Zoe Saldana,  Sigourney Wea...\n",
              "1     [Johnny Depp,  Geoffrey Rush,  Orlando Bloom, ...\n",
              "2     [Daniel Craig,  Christoph Waltz,  Léa Seydoux,...\n",
              "3     [Christian Bale,  Gary Oldman,  Tom Hardy,  Jo...\n",
              "4     [Johnny Depp,  Armie Hammer,  William Fichtner...\n",
              "5     [Taylor Kitsch,  Lynn Collins,  Samantha Morto...\n",
              "6     [Mandy Moore,  Zachary Levi,  Donna Murphy,  R...\n",
              "7     [Tobey Maguire,  Kirsten Dunst,  James Franco,...\n",
              "8     [Robert Downey Jr.,  Chris Hemsworth,  Mark Ru...\n",
              "9     [Chris Evans,  Robert Downey Jr.,  Scarlett Jo...\n",
              "10    [Ben Affleck,  Henry Cavill,  Amy Adams,  Jess...\n",
              "11    [Ian McKellen,  Martin Freeman,  Richard Armit...\n",
              "12    [Daniel Radcliffe,  Michael Gambon,  Dave Lege...\n",
              "13    [Ian McKellen,  Martin Freeman,  Richard Armit...\n",
              "14    [Ian McKellen,  Martin Freeman,  Richard Armit...\n",
              "15    [Johnny Depp,  Penélope Cruz,  Geoffrey Rush, ...\n",
              "16    [Brandon Routh,  Kate Bosworth,  Kevin Spacey,...\n",
              "17    [Daniel Craig,  Olga Kurylenko,  Mathieu Amalr...\n",
              "18    [Robert Downey Jr.,  Chris Evans,  Mark Ruffal...\n",
              "19    [Johnny Depp,  Orlando Bloom,  Keira Knightley...\n",
              "20    [Henry Cavill,  Amy Adams,  Michael Shannon,  ...\n",
              "21    [Ben Barnes,  Georgie Henley,  Skandar Keynes,...\n",
              "22    [Andrew Garfield,  Emma Stone,  Rhys Ifans,  D...\n",
              "23    [Chris Pratt,  Bryce Dallas Howard,  Irrfan Kh...\n",
              "Name: Actors, dtype: object"
            ]
          },
          "metadata": {},
          "execution_count": 14
        }
      ]
    },
    {
      "cell_type": "code",
      "metadata": {
        "id": "JF7ZQYnFa3qy"
      },
      "source": [
        "df['Director']=df['Director'].apply(lambda x : x.split(','))"
      ],
      "execution_count": 15,
      "outputs": []
    },
    {
      "cell_type": "code",
      "metadata": {
        "colab": {
          "base_uri": "https://localhost:8080/"
        },
        "id": "q24V3YZLbKKP",
        "outputId": "c6afb259-630c-4f11-8e58-cbe9ce656906"
      },
      "source": [
        "df['Director']"
      ],
      "execution_count": 16,
      "outputs": [
        {
          "output_type": "execute_result",
          "data": {
            "text/plain": [
              "0                   [James Cameron]\n",
              "1                  [Gore Verbinski]\n",
              "2                      [Sam Mendes]\n",
              "3               [Christopher Nolan]\n",
              "4                  [Gore Verbinski]\n",
              "5                  [Andrew Stanton]\n",
              "6     [Nathan Greno,  Byron Howard]\n",
              "7                       [Sam Raimi]\n",
              "8                     [Joss Whedon]\n",
              "9       [Anthony Russo,  Joe Russo]\n",
              "10                    [Zack Snyder]\n",
              "11                  [Peter Jackson]\n",
              "12                    [David Yates]\n",
              "13                  [Peter Jackson]\n",
              "14                  [Peter Jackson]\n",
              "15                   [Rob Marshall]\n",
              "16                   [Bryan Singer]\n",
              "17                   [Marc Forster]\n",
              "18                    [Joss Whedon]\n",
              "19                 [Gore Verbinski]\n",
              "20                    [Zack Snyder]\n",
              "21                 [Andrew Adamson]\n",
              "22                      [Marc Webb]\n",
              "23                [Colin Trevorrow]\n",
              "Name: Director, dtype: object"
            ]
          },
          "metadata": {},
          "execution_count": 16
        }
      ]
    },
    {
      "cell_type": "code",
      "metadata": {
        "id": "CAC_Zr_vbOHE"
      },
      "source": [
        "def clean(sentence):\n",
        "  temp=[]\n",
        "  for word in sentence :\n",
        "    temp.append(word.lower().replace(' ',''))\n",
        "    return temp"
      ],
      "execution_count": 17,
      "outputs": []
    },
    {
      "cell_type": "code",
      "metadata": {
        "id": "7m02mCw1b6IQ"
      },
      "source": [
        "df['Genre']=[clean(x) for x in df['Genre']]\n",
        "df['Actors']=[clean(x)for x in df['Actors']]\n",
        "df['Director']=[clean(x) for x in df['Director']]"
      ],
      "execution_count": 18,
      "outputs": []
    },
    {
      "cell_type": "code",
      "metadata": {
        "colab": {
          "base_uri": "https://localhost:8080/"
        },
        "id": "T83N9jsccU9v",
        "outputId": "02393476-9b95-44f6-9376-a4729c3f37d9"
      },
      "source": [
        "df['Actors'][1]"
      ],
      "execution_count": 19,
      "outputs": [
        {
          "output_type": "execute_result",
          "data": {
            "text/plain": [
              "['johnnydepp']"
            ]
          },
          "metadata": {},
          "execution_count": 19
        }
      ]
    },
    {
      "cell_type": "code",
      "metadata": {
        "colab": {
          "base_uri": "https://localhost:8080/"
        },
        "id": "wxxfBlBpcWyP",
        "outputId": "6db2d7e5-1fed-45e4-bf96-e35117956be7"
      },
      "source": [
        "# combining all the columns data\n",
        "columns = ['clean_plot', 'Genre', 'Actors', 'Director']\n",
        "l = []\n",
        "for i in range(len(df)):\n",
        "    words = ''\n",
        "    for col in columns:\n",
        "        words += ' '.join(df[col][i]) + ' '\n",
        "    l.append(words)\n",
        "l"
      ],
      "execution_count": 20,
      "outputs": [
        {
          "output_type": "execute_result",
          "data": {
            "text/plain": [
              "['paraplegic marine dispatched moon pandora unique mission becomes torn following orders protecting world feels home action samworthington jamescameron ',\n",
              " 'captain barbossa turner elizabeth swann must sail edge map navigate treachery betrayal find jack sparrow make final alliances one last decisive battle action johnnydepp goreverbinski ',\n",
              " 'cryptic message bond past sends trail uncover sinister organization battles political forces keep secret service alive bond peels back layers deceit reveal terrible truth behind spectre action danielcraig sammendes ',\n",
              " 'eight years joker reign anarchy dark knight help enigmatic selina forced imposed exile save gotham city edge total annihilation brutal guerrilla terrorist bane action christianbale christophernolan ',\n",
              " 'native american warrior tonto recounts untold tales transformed john reid man law legend justice action johnnydepp goreverbinski ',\n",
              " 'transported barsoom civil war vet discovers barren planet seemingly inhabited foot tall barbarians finding prisoner creatures escapes encounter woola princess desperate need savior action taylorkitsch andrewstanton ',\n",
              " 'magically long haired rapunzel spent entire life tower runaway thief stumbled upon discover world first time really animation mandymoore nathangreno ',\n",
              " 'strange black entity another world bonds peter parker causes inner turmoil contends new villains temptations revenge action tobeymaguire samraimi ',\n",
              " 'tony stark bruce banner try jump start dormant peacekeeping program called ultron things horribly wrong earth mightiest heroes stop villainous ultron enacting terrible plan action robertdowneyjr. josswhedon ',\n",
              " 'political interference avengers activities causes rift former allies captain america iron man action chrisevans anthonyrusso ',\n",
              " 'fearing actions superman left unchecked batman takes man steel world wrestles kind hero really needs action benaffleck zacksnyder ',\n",
              " 'reluctant hobbit bilbo baggins sets lonely mountain spirited group dwarves reclaim mountain home gold within dragon smaug adventure ianmckellen peterjackson ',\n",
              " 'harry potter begins sixth year hogwarts discovers old book marked property half blood prince begins learn lord voldemort dark past adventure danielradcliffe davidyates ',\n",
              " 'dwarves along bilbo baggins gandalf grey continue quest reclaim erebor homeland smaug bilbo baggins possession mysterious magical ring adventure ianmckellen peterjackson ',\n",
              " 'bilbo company forced engage war array combatants keep lonely mountain falling hands rising darkness adventure ianmckellen peterjackson ',\n",
              " 'jack sparrow barbossa embark quest find elusive fountain youth discover blackbeard daughter action johnnydepp robmarshall ',\n",
              " 'superman reappears long absence challenged old foe uses kryptonian technology world domination action brandonrouth bryansinger ',\n",
              " 'james bond descends mystery tries stop mysterious organization eliminating country valuable resource still tries seek revenge death love action danielcraig marcforster ',\n",
              " 'earth mightiest heroes must come together learn fight team stop mischievous loki alien army enslaving humanity action robertdowneyjr. josswhedon ',\n",
              " 'jack sparrow races recover heart davy jones avoid enslaving soul jones service friends foes seek heart agenda well action johnnydepp goreverbinski ',\n",
              " 'clark kent one last extinguished race disguised unremarkable human forced reveal identity earth invaded army survivors threaten bring planet brink destruction action henrycavill zacksnyder ',\n",
              " 'pevensie siblings return narnia enlisted help ward evil king restore rightful heir land throne prince caspian action benbarnes andrewadamson ',\n",
              " 'peter parker bitten genetically altered spider gains newfound spider like powers ventures solve mystery parent mysterious death action andrewgarfield marcwebb ',\n",
              " 'new theme park built original site jurassic park creates genetically modified hybrid dinosaur escapes containment goes killing spree action chrispratt colintrevorrow ']"
            ]
          },
          "metadata": {},
          "execution_count": 20
        }
      ]
    },
    {
      "cell_type": "code",
      "metadata": {
        "id": "6y_kxsKTfmP-"
      },
      "source": [
        "df['clean_input']=l\n",
        "df=df[['Title','clean_input']]"
      ],
      "execution_count": 21,
      "outputs": []
    },
    {
      "cell_type": "code",
      "metadata": {
        "colab": {
          "base_uri": "https://localhost:8080/",
          "height": 206
        },
        "id": "VI6Hn2O6f_oB",
        "outputId": "d8c82d57-c921-40b5-a0c6-c829d8ac0612"
      },
      "source": [
        "df.head()"
      ],
      "execution_count": 22,
      "outputs": [
        {
          "output_type": "execute_result",
          "data": {
            "text/html": [
              "<div>\n",
              "<style scoped>\n",
              "    .dataframe tbody tr th:only-of-type {\n",
              "        vertical-align: middle;\n",
              "    }\n",
              "\n",
              "    .dataframe tbody tr th {\n",
              "        vertical-align: top;\n",
              "    }\n",
              "\n",
              "    .dataframe thead th {\n",
              "        text-align: right;\n",
              "    }\n",
              "</style>\n",
              "<table border=\"1\" class=\"dataframe\">\n",
              "  <thead>\n",
              "    <tr style=\"text-align: right;\">\n",
              "      <th></th>\n",
              "      <th>Title</th>\n",
              "      <th>clean_input</th>\n",
              "    </tr>\n",
              "  </thead>\n",
              "  <tbody>\n",
              "    <tr>\n",
              "      <th>0</th>\n",
              "      <td>Avatar</td>\n",
              "      <td>paraplegic marine dispatched moon pandora uniq...</td>\n",
              "    </tr>\n",
              "    <tr>\n",
              "      <th>1</th>\n",
              "      <td>Pirates of the Caribbean: At World's End</td>\n",
              "      <td>captain barbossa turner elizabeth swann must s...</td>\n",
              "    </tr>\n",
              "    <tr>\n",
              "      <th>2</th>\n",
              "      <td>Spectre</td>\n",
              "      <td>cryptic message bond past sends trail uncover ...</td>\n",
              "    </tr>\n",
              "    <tr>\n",
              "      <th>3</th>\n",
              "      <td>The Dark Knight Rises</td>\n",
              "      <td>eight years joker reign anarchy dark knight he...</td>\n",
              "    </tr>\n",
              "    <tr>\n",
              "      <th>4</th>\n",
              "      <td>The Lone Ranger</td>\n",
              "      <td>native american warrior tonto recounts untold ...</td>\n",
              "    </tr>\n",
              "  </tbody>\n",
              "</table>\n",
              "</div>"
            ],
            "text/plain": [
              "                                      Title  \\\n",
              "0                                    Avatar   \n",
              "1  Pirates of the Caribbean: At World's End   \n",
              "2                                   Spectre   \n",
              "3                     The Dark Knight Rises   \n",
              "4                           The Lone Ranger   \n",
              "\n",
              "                                         clean_input  \n",
              "0  paraplegic marine dispatched moon pandora uniq...  \n",
              "1  captain barbossa turner elizabeth swann must s...  \n",
              "2  cryptic message bond past sends trail uncover ...  \n",
              "3  eight years joker reign anarchy dark knight he...  \n",
              "4  native american warrior tonto recounts untold ...  "
            ]
          },
          "metadata": {},
          "execution_count": 22
        }
      ]
    },
    {
      "cell_type": "markdown",
      "metadata": {
        "id": "xpUuzANcyfTq"
      },
      "source": [
        "## Feature Extraction"
      ]
    },
    {
      "cell_type": "code",
      "metadata": {
        "id": "Vkn6EMVhgjnV"
      },
      "source": [
        "from sklearn.feature_extraction.text import TfidfVectorizer, CountVectorizer\n",
        "tfidf = TfidfVectorizer()\n",
        "features = tfidf.fit_transform(df['clean_input'])"
      ],
      "execution_count": 23,
      "outputs": []
    },
    {
      "cell_type": "code",
      "metadata": {
        "colab": {
          "base_uri": "https://localhost:8080/"
        },
        "id": "NG5w_CpzyQ4-",
        "outputId": "da7f785d-8dfb-4d7e-da09-061ce2b5eb47"
      },
      "source": [
        "# create cosine similarity matrix\n",
        "from sklearn.metrics.pairwise import cosine_similarity\n",
        "cosine_sim = cosine_similarity(features, features)\n",
        "print(cosine_sim)"
      ],
      "execution_count": 24,
      "outputs": [
        {
          "output_type": "stream",
          "name": "stdout",
          "text": [
            "[[1.         0.00647628 0.00566914 0.006056   0.00768921 0.00603877\n",
            "  0.02699039 0.03613825 0.00579602 0.00821186 0.03719042 0.04522117\n",
            "  0.         0.         0.         0.00855236 0.04081432 0.00666768\n",
            "  0.00751107 0.0063471  0.00647267 0.00707146 0.00670347 0.00641826]\n",
            " [0.00647628 1.         0.00499612 0.04006899 0.07395984 0.00532187\n",
            "  0.         0.00645017 0.00510794 0.05433308 0.00663796 0.\n",
            "  0.         0.         0.         0.22078137 0.00728478 0.00587611\n",
            "  0.04969632 0.12104769 0.07994745 0.00623196 0.00590766 0.00565631]\n",
            " [0.00566914 0.00499612 1.         0.00467189 0.00593183 0.0046586\n",
            "  0.         0.00564628 0.03356943 0.04756152 0.00581067 0.\n",
            "  0.03096592 0.         0.039534   0.00659771 0.00637687 0.13904028\n",
            "  0.0057944  0.03676117 0.03748845 0.00545527 0.00517139 0.00495136]\n",
            " [0.006056   0.04006899 0.00467189 1.         0.00633662 0.0049765\n",
            "  0.         0.00603158 0.00477645 0.00676733 0.00620719 0.\n",
            "  0.03307901 0.         0.03480339 0.00704793 0.00681203 0.00549478\n",
            "  0.00618981 0.00523059 0.03394085 0.04375137 0.00552428 0.00528924]\n",
            " [0.00768921 0.07395984 0.00593183 0.00633662 1.         0.00631859\n",
            "  0.         0.00765821 0.00606459 0.05467352 0.05014813 0.\n",
            "  0.         0.         0.         0.049677   0.00864913 0.00697664\n",
            "  0.00785911 0.07248454 0.00677259 0.00739913 0.00701409 0.00671567]\n",
            " [0.00603877 0.00532187 0.0046586  0.0049765  0.00631859 1.\n",
            "  0.         0.00601442 0.00476287 0.00674808 0.00618953 0.\n",
            "  0.03298493 0.         0.04211166 0.00702788 0.00679265 0.00547915\n",
            "  0.0061722  0.00521571 0.03993273 0.00581096 0.00550857 0.03959707]\n",
            " [0.02699039 0.         0.         0.         0.         0.\n",
            "  1.         0.02688155 0.         0.         0.07338561 0.\n",
            "  0.         0.         0.         0.05191421 0.08053644 0.\n",
            "  0.         0.         0.         0.         0.         0.        ]\n",
            " [0.03613825 0.00645017 0.00564628 0.00603158 0.00765821 0.00601442\n",
            "  0.02688155 1.         0.00577265 0.06140361 0.03704045 0.\n",
            "  0.         0.         0.         0.00851787 0.04064974 0.04985708\n",
            "  0.00748078 0.0063215  0.00644657 0.00704294 0.09357305 0.04799209]\n",
            " [0.00579602 0.00510794 0.03356943 0.00477645 0.00606459 0.00476287\n",
            "  0.         0.00577265 1.         0.00647681 0.00594072 0.\n",
            "  0.         0.         0.         0.00674537 0.00651959 0.03346247\n",
            "  0.22367486 0.00500605 0.0324838  0.00557736 0.00528713 0.00506217]\n",
            " [0.00821186 0.05433308 0.04756152 0.00676733 0.05467352 0.00674808\n",
            "  0.         0.06140361 0.00647681 1.         0.05355679 0.\n",
            "  0.         0.         0.         0.00955691 0.00923703 0.00745085\n",
            "  0.00839331 0.00709262 0.00723294 0.00790206 0.00749085 0.00717214]\n",
            " [0.03719042 0.00663796 0.00581067 0.00620719 0.05014813 0.00618953\n",
            "  0.07338561 0.03704045 0.00594072 0.05355679 1.         0.\n",
            "  0.         0.         0.         0.00876587 0.09696956 0.00683414\n",
            "  0.00769858 0.00650556 0.04980806 0.007248   0.00687083 0.0065785 ]\n",
            " [0.04522117 0.         0.         0.         0.         0.\n",
            "  0.         0.         0.         0.         0.         1.\n",
            "  0.02654558 0.3651048  0.29906931 0.         0.         0.\n",
            "  0.         0.         0.         0.         0.         0.        ]\n",
            " [0.         0.         0.03096592 0.03307901 0.         0.03298493\n",
            "  0.         0.         0.         0.         0.         0.02654558\n",
            "  1.         0.02519559 0.03008252 0.         0.04515102 0.\n",
            "  0.04102687 0.         0.         0.03862565 0.         0.        ]\n",
            " [0.         0.         0.         0.         0.         0.\n",
            "  0.         0.         0.         0.         0.         0.3651048\n",
            "  0.02519559 1.         0.18378209 0.04995165 0.         0.03209377\n",
            "  0.         0.         0.         0.         0.03226607 0.        ]\n",
            " [0.         0.         0.039534   0.03480339 0.         0.04211166\n",
            "  0.         0.         0.         0.         0.         0.29906931\n",
            "  0.03008252 0.18378209 1.         0.         0.         0.\n",
            "  0.         0.         0.03719797 0.         0.         0.        ]\n",
            " [0.00855236 0.22078137 0.00659771 0.00704793 0.049677   0.00702788\n",
            "  0.05191421 0.00851787 0.00674537 0.00955691 0.00876587 0.\n",
            "  0.         0.04995165 0.         1.         0.00962003 0.0077598\n",
            "  0.00874133 0.12023637 0.00753285 0.00822972 0.00780146 0.00746953]\n",
            " [0.04081432 0.00728478 0.00637687 0.00681203 0.00864913 0.00679265\n",
            "  0.08053644 0.04064974 0.00651959 0.00923703 0.09696956 0.\n",
            "  0.04515102 0.         0.         0.00962003 1.         0.00750007\n",
            "  0.00844875 0.00713947 0.00728071 0.00795426 0.00754033 0.00721952]\n",
            " [0.00666768 0.00587611 0.13904028 0.00549478 0.00697664 0.00547915\n",
            "  0.         0.04985708 0.03346247 0.00745085 0.00683414 0.\n",
            "  0.         0.03209377 0.         0.0077598  0.00750007 1.\n",
            "  0.04336404 0.04323612 0.00587283 0.00641613 0.11786447 0.00582347]\n",
            " [0.00751107 0.04969632 0.0057944  0.00618981 0.00785911 0.0061722\n",
            "  0.         0.00748078 0.22367486 0.00839331 0.00769858 0.\n",
            "  0.04102687 0.         0.         0.00874133 0.00844875 0.04336404\n",
            "  1.         0.04870502 0.08514868 0.00722771 0.00685159 0.00656008]\n",
            " [0.0063471  0.12104769 0.03676117 0.00523059 0.07248454 0.00521571\n",
            "  0.         0.0063215  0.00500605 0.00709262 0.00650556 0.\n",
            "  0.         0.         0.         0.12023637 0.00713947 0.04323612\n",
            "  0.04870502 1.         0.00559047 0.00610765 0.00578982 0.00554348]\n",
            " [0.00647267 0.07994745 0.03748845 0.03394085 0.00677259 0.03993273\n",
            "  0.         0.00644657 0.0324838  0.00723294 0.04980806 0.\n",
            "  0.         0.         0.03719797 0.00753285 0.00728071 0.00587283\n",
            "  0.08514868 0.00559047 1.         0.00622848 0.00590436 0.00565315]\n",
            " [0.00707146 0.00623196 0.00545527 0.04375137 0.00739913 0.00581096\n",
            "  0.         0.00704294 0.00557736 0.00790206 0.007248   0.\n",
            "  0.03862565 0.         0.         0.00822972 0.00795426 0.00641613\n",
            "  0.00722771 0.00610765 0.00622848 1.         0.00645058 0.00617613]\n",
            " [0.00670347 0.00590766 0.00517139 0.00552428 0.00701409 0.00550857\n",
            "  0.         0.09357305 0.00528713 0.00749085 0.00687083 0.\n",
            "  0.         0.03226607 0.         0.00780146 0.00754033 0.11786447\n",
            "  0.00685159 0.00578982 0.00590436 0.00645058 1.         0.0439556 ]\n",
            " [0.00641826 0.00565631 0.00495136 0.00528924 0.00671567 0.03959707\n",
            "  0.         0.04799209 0.00506217 0.00717214 0.0065785  0.\n",
            "  0.         0.         0.         0.00746953 0.00721952 0.00582347\n",
            "  0.00656008 0.00554348 0.00565315 0.00617613 0.0439556  1.        ]]\n"
          ]
        }
      ]
    },
    {
      "cell_type": "markdown",
      "metadata": {
        "id": "FnGYveqYyZ6f"
      },
      "source": [
        "## Movie Recommendation"
      ]
    },
    {
      "cell_type": "code",
      "metadata": {
        "colab": {
          "base_uri": "https://localhost:8080/"
        },
        "id": "vQtx0QWiyRwk",
        "outputId": "81127d6a-3e8e-4eb3-d32f-f4248ba92b7a"
      },
      "source": [
        "index = pd.Series(df['Title'])\n",
        "index.head()"
      ],
      "execution_count": 25,
      "outputs": [
        {
          "output_type": "execute_result",
          "data": {
            "text/plain": [
              "0                                      Avatar\n",
              "1    Pirates of the Caribbean: At World's End\n",
              "2                                     Spectre\n",
              "3                       The Dark Knight Rises\n",
              "4                             The Lone Ranger\n",
              "Name: Title, dtype: object"
            ]
          },
          "metadata": {},
          "execution_count": 25
        }
      ]
    },
    {
      "cell_type": "code",
      "metadata": {
        "id": "FXNJe7S6yWUQ"
      },
      "source": [
        "def recommend_movies(title):\n",
        "    movies = []\n",
        "    idx = index[index == title].index[0]\n",
        "    # print(idx)\n",
        "    score = pd.Series(cosine_sim[idx]).sort_values(ascending=False)\n",
        "    top10 = list(score.iloc[1:11].index)\n",
        "    # print(top10)\n",
        "    \n",
        "    for i in top10:\n",
        "        movies.append(df['Title'][i])\n",
        "    return movies"
      ],
      "execution_count": 26,
      "outputs": []
    },
    {
      "cell_type": "code",
      "metadata": {
        "colab": {
          "base_uri": "https://localhost:8080/"
        },
        "id": "0kRAOLkQyWuI",
        "outputId": "ae831f4d-e40e-43a5-e85e-c33466245d69"
      },
      "source": [
        "recommend_movies('The Dark Knight Rises')\n"
      ],
      "execution_count": 27,
      "outputs": [
        {
          "output_type": "execute_result",
          "data": {
            "text/plain": [
              "['The Chronicles of Narnia: Prince Caspian',\n",
              " \"Pirates of the Caribbean: At World's End\",\n",
              " 'The Hobbit: The Battle of the Five Armies',\n",
              " 'Man of Steel',\n",
              " 'Harry Potter and the Half-Blood Prince',\n",
              " 'Pirates of the Caribbean: On Stranger Tides',\n",
              " 'Superman Returns',\n",
              " 'Captain America: Civil War',\n",
              " 'The Lone Ranger',\n",
              " 'Batman v Superman: Dawn of Justice']"
            ]
          },
          "metadata": {},
          "execution_count": 27
        }
      ]
    },
    {
      "cell_type": "code",
      "metadata": {
        "id": "SrDEdUUqyZBw"
      },
      "source": [
        ""
      ],
      "execution_count": null,
      "outputs": []
    }
  ]
}